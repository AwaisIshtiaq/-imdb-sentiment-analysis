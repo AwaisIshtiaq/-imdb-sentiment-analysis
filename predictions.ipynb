{
 "cells": [
  {
   "cell_type": "code",
   "execution_count": 11,
   "id": "91f5eeb8",
   "metadata": {},
   "outputs": [],
   "source": [
    "import numpy as np\n",
    "import tensorflow as tf\n",
    "from tensorflow.keras.datasets import imdb\n",
    "from tensorflow.keras.preprocessing import sequence\n",
    "from tensorflow.keras.models import load_model\n"
   ]
  },
  {
   "cell_type": "code",
   "execution_count": 12,
   "id": "cfed09d7",
   "metadata": {},
   "outputs": [],
   "source": [
    "word_index = imdb.get_word_index()\n",
    "# word_index\n",
    "reverse_word_index = {value : key for key, value in word_index.items()}"
   ]
  },
  {
   "cell_type": "code",
   "execution_count": 13,
   "id": "497e8bd1",
   "metadata": {},
   "outputs": [
    {
     "name": "stderr",
     "output_type": "stream",
     "text": [
      "WARNING:absl:Compiled the loaded model, but the compiled metrics have yet to be built. `model.compile_metrics` will be empty until you train or evaluate the model.\n"
     ]
    }
   ],
   "source": [
    "model = load_model(\"Simple_RNN_.h5\")"
   ]
  },
  {
   "cell_type": "code",
   "execution_count": 14,
   "id": "dcde2314",
   "metadata": {},
   "outputs": [
    {
     "data": {
      "text/html": [
       "<pre style=\"white-space:pre;overflow-x:auto;line-height:normal;font-family:Menlo,'DejaVu Sans Mono',consolas,'Courier New',monospace\"><span style=\"font-weight: bold\">Model: \"sequential_3\"</span>\n",
       "</pre>\n"
      ],
      "text/plain": [
       "\u001b[1mModel: \"sequential_3\"\u001b[0m\n"
      ]
     },
     "metadata": {},
     "output_type": "display_data"
    },
    {
     "data": {
      "text/html": [
       "<pre style=\"white-space:pre;overflow-x:auto;line-height:normal;font-family:Menlo,'DejaVu Sans Mono',consolas,'Courier New',monospace\">┏━━━━━━━━━━━━━━━━━━━━━━━━━━━━━━━━━┳━━━━━━━━━━━━━━━━━━━━━━━━┳━━━━━━━━━━━━━━━┓\n",
       "┃<span style=\"font-weight: bold\"> Layer (type)                    </span>┃<span style=\"font-weight: bold\"> Output Shape           </span>┃<span style=\"font-weight: bold\">       Param # </span>┃\n",
       "┡━━━━━━━━━━━━━━━━━━━━━━━━━━━━━━━━━╇━━━━━━━━━━━━━━━━━━━━━━━━╇━━━━━━━━━━━━━━━┩\n",
       "│ embedding_3 (<span style=\"color: #0087ff; text-decoration-color: #0087ff\">Embedding</span>)         │ (<span style=\"color: #00d7ff; text-decoration-color: #00d7ff\">None</span>, <span style=\"color: #00af00; text-decoration-color: #00af00\">500</span>, <span style=\"color: #00af00; text-decoration-color: #00af00\">128</span>)       │     <span style=\"color: #00af00; text-decoration-color: #00af00\">1,280,000</span> │\n",
       "├─────────────────────────────────┼────────────────────────┼───────────────┤\n",
       "│ simple_rnn_3 (<span style=\"color: #0087ff; text-decoration-color: #0087ff\">SimpleRNN</span>)        │ (<span style=\"color: #00d7ff; text-decoration-color: #00d7ff\">None</span>, <span style=\"color: #00af00; text-decoration-color: #00af00\">128</span>)            │        <span style=\"color: #00af00; text-decoration-color: #00af00\">32,896</span> │\n",
       "├─────────────────────────────────┼────────────────────────┼───────────────┤\n",
       "│ dense_3 (<span style=\"color: #0087ff; text-decoration-color: #0087ff\">Dense</span>)                 │ (<span style=\"color: #00d7ff; text-decoration-color: #00d7ff\">None</span>, <span style=\"color: #00af00; text-decoration-color: #00af00\">1</span>)              │           <span style=\"color: #00af00; text-decoration-color: #00af00\">129</span> │\n",
       "└─────────────────────────────────┴────────────────────────┴───────────────┘\n",
       "</pre>\n"
      ],
      "text/plain": [
       "┏━━━━━━━━━━━━━━━━━━━━━━━━━━━━━━━━━┳━━━━━━━━━━━━━━━━━━━━━━━━┳━━━━━━━━━━━━━━━┓\n",
       "┃\u001b[1m \u001b[0m\u001b[1mLayer (type)                   \u001b[0m\u001b[1m \u001b[0m┃\u001b[1m \u001b[0m\u001b[1mOutput Shape          \u001b[0m\u001b[1m \u001b[0m┃\u001b[1m \u001b[0m\u001b[1m      Param #\u001b[0m\u001b[1m \u001b[0m┃\n",
       "┡━━━━━━━━━━━━━━━━━━━━━━━━━━━━━━━━━╇━━━━━━━━━━━━━━━━━━━━━━━━╇━━━━━━━━━━━━━━━┩\n",
       "│ embedding_3 (\u001b[38;5;33mEmbedding\u001b[0m)         │ (\u001b[38;5;45mNone\u001b[0m, \u001b[38;5;34m500\u001b[0m, \u001b[38;5;34m128\u001b[0m)       │     \u001b[38;5;34m1,280,000\u001b[0m │\n",
       "├─────────────────────────────────┼────────────────────────┼───────────────┤\n",
       "│ simple_rnn_3 (\u001b[38;5;33mSimpleRNN\u001b[0m)        │ (\u001b[38;5;45mNone\u001b[0m, \u001b[38;5;34m128\u001b[0m)            │        \u001b[38;5;34m32,896\u001b[0m │\n",
       "├─────────────────────────────────┼────────────────────────┼───────────────┤\n",
       "│ dense_3 (\u001b[38;5;33mDense\u001b[0m)                 │ (\u001b[38;5;45mNone\u001b[0m, \u001b[38;5;34m1\u001b[0m)              │           \u001b[38;5;34m129\u001b[0m │\n",
       "└─────────────────────────────────┴────────────────────────┴───────────────┘\n"
      ]
     },
     "metadata": {},
     "output_type": "display_data"
    },
    {
     "data": {
      "text/html": [
       "<pre style=\"white-space:pre;overflow-x:auto;line-height:normal;font-family:Menlo,'DejaVu Sans Mono',consolas,'Courier New',monospace\"><span style=\"font-weight: bold\"> Total params: </span><span style=\"color: #00af00; text-decoration-color: #00af00\">1,313,027</span> (5.01 MB)\n",
       "</pre>\n"
      ],
      "text/plain": [
       "\u001b[1m Total params: \u001b[0m\u001b[38;5;34m1,313,027\u001b[0m (5.01 MB)\n"
      ]
     },
     "metadata": {},
     "output_type": "display_data"
    },
    {
     "data": {
      "text/html": [
       "<pre style=\"white-space:pre;overflow-x:auto;line-height:normal;font-family:Menlo,'DejaVu Sans Mono',consolas,'Courier New',monospace\"><span style=\"font-weight: bold\"> Trainable params: </span><span style=\"color: #00af00; text-decoration-color: #00af00\">1,313,025</span> (5.01 MB)\n",
       "</pre>\n"
      ],
      "text/plain": [
       "\u001b[1m Trainable params: \u001b[0m\u001b[38;5;34m1,313,025\u001b[0m (5.01 MB)\n"
      ]
     },
     "metadata": {},
     "output_type": "display_data"
    },
    {
     "data": {
      "text/html": [
       "<pre style=\"white-space:pre;overflow-x:auto;line-height:normal;font-family:Menlo,'DejaVu Sans Mono',consolas,'Courier New',monospace\"><span style=\"font-weight: bold\"> Non-trainable params: </span><span style=\"color: #00af00; text-decoration-color: #00af00\">0</span> (0.00 B)\n",
       "</pre>\n"
      ],
      "text/plain": [
       "\u001b[1m Non-trainable params: \u001b[0m\u001b[38;5;34m0\u001b[0m (0.00 B)\n"
      ]
     },
     "metadata": {},
     "output_type": "display_data"
    },
    {
     "data": {
      "text/html": [
       "<pre style=\"white-space:pre;overflow-x:auto;line-height:normal;font-family:Menlo,'DejaVu Sans Mono',consolas,'Courier New',monospace\"><span style=\"font-weight: bold\"> Optimizer params: </span><span style=\"color: #00af00; text-decoration-color: #00af00\">2</span> (12.00 B)\n",
       "</pre>\n"
      ],
      "text/plain": [
       "\u001b[1m Optimizer params: \u001b[0m\u001b[38;5;34m2\u001b[0m (12.00 B)\n"
      ]
     },
     "metadata": {},
     "output_type": "display_data"
    }
   ],
   "source": [
    "model.summary()"
   ]
  },
  {
   "cell_type": "code",
   "execution_count": 15,
   "id": "8f0c1620",
   "metadata": {},
   "outputs": [
    {
     "data": {
      "text/plain": [
       "[array([[ 0.10137738,  0.20136409, -0.03071438, ...,  0.12040153,\n",
       "          0.10328982,  0.09628826],\n",
       "        [-0.00156642,  0.03022273,  0.01950423, ...,  0.01897645,\n",
       "         -0.03824544,  0.02395835],\n",
       "        [-0.04562633,  0.0129656 , -0.15472677, ...,  0.1010664 ,\n",
       "          0.07537075,  0.03853465],\n",
       "        ...,\n",
       "        [-0.01741997, -0.02793813,  0.00981286, ..., -0.00098575,\n",
       "          0.01147409,  0.00845417],\n",
       "        [ 0.03084252,  0.06804293,  0.079931  , ...,  0.02351114,\n",
       "          0.02824788, -0.02776877],\n",
       "        [ 0.2621472 ,  0.24511765,  0.07107521, ...,  0.07893575,\n",
       "          0.0350591 ,  0.12567645]], shape=(10000, 128), dtype=float32),\n",
       " array([[ 0.05545266,  0.08590235, -0.11341365, ...,  0.15895662,\n",
       "         -0.08894027,  0.11139058],\n",
       "        [ 0.00781918,  0.17814784,  0.01590594, ..., -0.12504564,\n",
       "         -0.0990068 ,  0.05245434],\n",
       "        [ 0.00703807, -0.14641784, -0.10618901, ...,  0.11296759,\n",
       "         -0.18636957,  0.05546444],\n",
       "        ...,\n",
       "        [-0.07685748,  0.03200299,  0.06418328, ...,  0.09075094,\n",
       "          0.01218517,  0.123569  ],\n",
       "        [-0.01417516, -0.16334374,  0.00219743, ...,  0.00642063,\n",
       "          0.15405238, -0.02359337],\n",
       "        [-0.05311185,  0.0010264 , -0.09644818, ..., -0.10005847,\n",
       "          0.09375623, -0.03012252]], shape=(128, 128), dtype=float32),\n",
       " array([[-0.13465314,  0.03813695,  0.1074447 , ...,  0.07084112,\n",
       "         -0.13857475, -0.1677031 ],\n",
       "        [ 0.00229622,  0.10573274, -0.10758416, ...,  0.01464437,\n",
       "         -0.00173922, -0.12726466],\n",
       "        [-0.08890833,  0.06671675, -0.0317927 , ..., -0.05570001,\n",
       "          0.13469668,  0.08815851],\n",
       "        ...,\n",
       "        [-0.03161179, -0.07771812, -0.03672769, ...,  0.02985922,\n",
       "         -0.09800109, -0.01646112],\n",
       "        [-0.04217218, -0.06197024,  0.0368691 , ..., -0.09775908,\n",
       "         -0.08331981,  0.02086812],\n",
       "        [ 0.09565938,  0.05799985,  0.10068908, ...,  0.08660757,\n",
       "         -0.08323807, -0.03004642]], shape=(128, 128), dtype=float32),\n",
       " array([-0.01671601,  0.00061107, -0.00867206, -0.01820491,  0.01460341,\n",
       "         0.00756767,  0.02647983,  0.0008373 , -0.00687192, -0.02050077,\n",
       "        -0.0016946 ,  0.00264615,  0.00151126, -0.0073426 , -0.01681508,\n",
       "        -0.0286732 , -0.0280363 ,  0.00512197, -0.01342474, -0.01174539,\n",
       "         0.02814856, -0.01679402, -0.03485982, -0.00399843, -0.0048445 ,\n",
       "        -0.01724178, -0.0168461 , -0.01127963, -0.02288946,  0.00025427,\n",
       "        -0.01555939,  0.01248075, -0.00569851, -0.00061368, -0.00809189,\n",
       "         0.00047697, -0.00874532,  0.03975407, -0.01675942, -0.00961643,\n",
       "        -0.01690803,  0.03021918, -0.03020609, -0.00835927, -0.03287957,\n",
       "        -0.02490742, -0.02373072, -0.02264056, -0.04555086,  0.01154597,\n",
       "        -0.01825966,  0.0097027 ,  0.03930764,  0.02225156, -0.01305526,\n",
       "        -0.00472933, -0.01338568, -0.00228486,  0.01752732,  0.00497801,\n",
       "        -0.00713455,  0.01756402, -0.03587122, -0.05691596, -0.03669608,\n",
       "         0.03157165,  0.03629443, -0.01271466, -0.03873482, -0.03667218,\n",
       "        -0.01426183, -0.01013434, -0.02380818, -0.01751913, -0.00741387,\n",
       "        -0.0027419 , -0.01438861, -0.00710772,  0.00642379,  0.03461732,\n",
       "         0.00189801,  0.01434352,  0.02005204,  0.00650739,  0.00310959,\n",
       "         0.02303164, -0.03078073, -0.03919112,  0.01919644,  0.00365548,\n",
       "        -0.01384365, -0.01801675,  0.00936847, -0.01108792,  0.08549511,\n",
       "        -0.04486438,  0.02738158, -0.01102494,  0.01578683,  0.00793139,\n",
       "        -0.02280005, -0.03052214,  0.00573816,  0.01585353, -0.01180983,\n",
       "         0.01150891, -0.02998302,  0.00413287,  0.04338147,  0.01441899,\n",
       "         0.01157713,  0.03027125,  0.00728307, -0.01011215, -0.04041838,\n",
       "        -0.02223614,  0.01300831, -0.02146342, -0.00397422, -0.00584112,\n",
       "        -0.02240889,  0.01926739, -0.02347199, -0.00463349,  0.01693116,\n",
       "        -0.02890489,  0.0290422 , -0.03821291], dtype=float32),\n",
       " array([[ 0.21998888],\n",
       "        [-0.09767307],\n",
       "        [-0.09268723],\n",
       "        [-0.0265703 ],\n",
       "        [-0.12595174],\n",
       "        [-0.24720225],\n",
       "        [ 0.12713489],\n",
       "        [-0.1012289 ],\n",
       "        [ 0.06617153],\n",
       "        [-0.10927296],\n",
       "        [-0.05298064],\n",
       "        [ 0.1666801 ],\n",
       "        [ 0.12475756],\n",
       "        [-0.19037335],\n",
       "        [-0.14465003],\n",
       "        [ 0.0159102 ],\n",
       "        [ 0.14695701],\n",
       "        [-0.02711454],\n",
       "        [ 0.10114633],\n",
       "        [ 0.0827679 ],\n",
       "        [ 0.19756937],\n",
       "        [ 0.13529886],\n",
       "        [ 0.10675053],\n",
       "        [-0.07121745],\n",
       "        [ 0.2663578 ],\n",
       "        [-0.14824298],\n",
       "        [ 0.00378411],\n",
       "        [ 0.08520129],\n",
       "        [ 0.2099284 ],\n",
       "        [ 0.10205665],\n",
       "        [ 0.13989574],\n",
       "        [ 0.19253422],\n",
       "        [ 0.08722501],\n",
       "        [-0.17816658],\n",
       "        [-0.14887802],\n",
       "        [-1.0206733 ],\n",
       "        [-0.07109659],\n",
       "        [ 0.04236065],\n",
       "        [ 0.13016866],\n",
       "        [-0.15784006],\n",
       "        [-0.06642776],\n",
       "        [ 0.25765604],\n",
       "        [-0.2112607 ],\n",
       "        [ 0.03172274],\n",
       "        [ 0.00338761],\n",
       "        [-0.11014569],\n",
       "        [-0.27666593],\n",
       "        [-0.16991644],\n",
       "        [ 0.22508927],\n",
       "        [ 0.17834969],\n",
       "        [ 0.04019232],\n",
       "        [-0.55715436],\n",
       "        [ 0.15585528],\n",
       "        [ 0.05787359],\n",
       "        [ 0.19694056],\n",
       "        [-0.08762866],\n",
       "        [-1.2462856 ],\n",
       "        [-0.23731859],\n",
       "        [ 0.10296081],\n",
       "        [ 0.22913472],\n",
       "        [ 0.16291371],\n",
       "        [-0.22097899],\n",
       "        [-0.03453344],\n",
       "        [-0.1435834 ],\n",
       "        [-0.03662654],\n",
       "        [ 0.14358796],\n",
       "        [-0.02517654],\n",
       "        [ 0.12934278],\n",
       "        [-0.02060046],\n",
       "        [ 0.06543394],\n",
       "        [-0.02664221],\n",
       "        [ 0.22045007],\n",
       "        [ 0.14687787],\n",
       "        [ 0.01125432],\n",
       "        [ 0.04931951],\n",
       "        [-0.08181004],\n",
       "        [-0.15313566],\n",
       "        [-0.19488698],\n",
       "        [ 0.23859513],\n",
       "        [ 0.15282571],\n",
       "        [-0.16393603],\n",
       "        [-0.14124744],\n",
       "        [-0.25152755],\n",
       "        [ 0.00419467],\n",
       "        [-0.15920721],\n",
       "        [ 0.27866796],\n",
       "        [ 0.11832073],\n",
       "        [-0.29151893],\n",
       "        [ 0.07171351],\n",
       "        [ 0.2145163 ],\n",
       "        [ 0.10608658],\n",
       "        [ 0.04248476],\n",
       "        [-0.17459549],\n",
       "        [ 0.20286427],\n",
       "        [ 0.11598085],\n",
       "        [ 0.19943424],\n",
       "        [-0.17424628],\n",
       "        [ 0.02850371],\n",
       "        [ 0.16105829],\n",
       "        [ 0.24552698],\n",
       "        [ 0.11151102],\n",
       "        [-0.00399724],\n",
       "        [-0.13978662],\n",
       "        [-0.04994478],\n",
       "        [-0.3578072 ],\n",
       "        [ 0.2371457 ],\n",
       "        [ 0.23003283],\n",
       "        [ 0.12450429],\n",
       "        [ 0.04142888],\n",
       "        [ 0.07192213],\n",
       "        [-0.4140814 ],\n",
       "        [ 0.18234216],\n",
       "        [ 0.07914691],\n",
       "        [-0.218535  ],\n",
       "        [ 0.03085166],\n",
       "        [-0.663999  ],\n",
       "        [-0.19471721],\n",
       "        [-0.08558507],\n",
       "        [-0.10094866],\n",
       "        [-0.16190258],\n",
       "        [ 0.2015884 ],\n",
       "        [ 0.16775921],\n",
       "        [ 0.222534  ],\n",
       "        [ 0.2272568 ],\n",
       "        [-0.14791283],\n",
       "        [-0.16415231],\n",
       "        [ 0.22099142],\n",
       "        [-0.16062783]], dtype=float32),\n",
       " array([-2.2971845], dtype=float32)]"
      ]
     },
     "execution_count": 15,
     "metadata": {},
     "output_type": "execute_result"
    }
   ],
   "source": [
    "model.get_weights()"
   ]
  },
  {
   "cell_type": "code",
   "execution_count": 16,
   "id": "3185d956",
   "metadata": {},
   "outputs": [],
   "source": [
    "# Helper functions\n",
    "# Function to decode Review\n",
    "def decode_review(encoded_review):\n",
    "    return \" \".join([reverse_word_index.get(i-3,'?') for i in encoded_review])\n",
    "\n",
    "# Function preprocessing user input \n",
    "def perprocessing_text(text):\n",
    "    words = text.lower().split()\n",
    "    encoded_review = [word_index.get(word,2)+3 for word in words]\n",
    "    padded_review = sequence.pad_sequences([encoded_review],maxlen=500)\n",
    "    return padded_review"
   ]
  },
  {
   "cell_type": "code",
   "execution_count": 17,
   "id": "5cecab11",
   "metadata": {},
   "outputs": [],
   "source": [
    "# prediction functions\n",
    "def predict_sentiments(review):\n",
    "    preprocessed_input = perprocessing_text(review)\n",
    "    prediction = model.predict(preprocessed_input)\n",
    "    sentiments = \"Positive\" if prediction[0][0] > 0.05 else \"Negative\"\n",
    "    return sentiments, prediction[0][0]"
   ]
  },
  {
   "cell_type": "code",
   "execution_count": 18,
   "id": "b2d26824",
   "metadata": {},
   "outputs": [
    {
     "name": "stdout",
     "output_type": "stream",
     "text": [
      "\u001b[1m1/1\u001b[0m \u001b[32m━━━━━━━━━━━━━━━━━━━━\u001b[0m\u001b[37m\u001b[0m \u001b[1m0s\u001b[0m 178ms/step\n",
      "Review: This movie was fantastic! The acting was great and the plot was thrilling\n",
      "Sentiment: Positive\n",
      "Prediciton Score: 0.9999440908432007\n"
     ]
    }
   ],
   "source": [
    "example_review = \"This movie was fantastic! The acting was great and the plot was thrilling\"\n",
    "\n",
    "sentiment, score = predict_sentiments(example_review)\n",
    "print(f\"Review: {example_review}\")\n",
    "print(f\"Sentiment: {sentiment}\")\n",
    "print(f\"Prediciton Score: {score}\")"
   ]
  },
  {
   "cell_type": "code",
   "execution_count": 1,
   "id": "8e8f1684",
   "metadata": {},
   "outputs": [],
   "source": [
    "# a = \"this movie is bullshit and i just hate this movie\"\n",
    "# sentiment, score = predict_sentiments(a)\n",
    "# print(f\"Review: {a}\")\n",
    "# print(f\"Sentiment: {sentiment}\")\n",
    "# print(f\"Prediciton Score: {score}\")"
   ]
  },
  {
   "cell_type": "code",
   "execution_count": 3,
   "id": "857562a8",
   "metadata": {},
   "outputs": [
    {
     "name": "stderr",
     "output_type": "stream",
     "text": [
      "WARNING:absl:Compiled the loaded model, but the compiled metrics have yet to be built. `model.compile_metrics` will be empty until you train or evaluate the model.\n"
     ]
    }
   ],
   "source": [
    "import numpy as np\n",
    "from tensorflow.keras.datasets import imdb\n",
    "from tensorflow.keras.preprocessing.sequence import pad_sequences\n",
    "from tensorflow.keras.models import load_model\n",
    "\n",
    "# --- Config ---\n",
    "max_features = 10000      # vocab size you trained with\n",
    "maxlen = 200              # sequence length used during training\n",
    "\n",
    "# Load tokenizer-compatible IMDB data\n",
    "(X_train, y_train), (X_test, y_test) = imdb.load_data(num_words=max_features)\n",
    "\n",
    "# Load trained model\n",
    "model = load_model(\"Simple_RNN_.h5\")\n",
    "# --- Prediction helper ---\n",
    "def predict_sentiments(review, word_index=imdb.get_word_index()):\n",
    "    # Convert text -> word indices\n",
    "    words = review.lower().split()\n",
    "    seq = []\n",
    "    for w in words:\n",
    "        idx = word_index.get(w, 2)  # 2 is <OOV> in IMDB\n",
    "        # clamp index if it exceeds max_features\n",
    "        if idx >= max_features:\n",
    "            idx = 2  # map to <OOV>\n",
    "        seq.append(idx)\n",
    "\n",
    "    # Pad to training length\n",
    "    seq = pad_sequences([seq], maxlen=maxlen)\n",
    "\n",
    "    # Predict\n",
    "    score = model.predict(seq, verbose=0)[0][0]\n",
    "    sentiment = \"Positive\" if score >= 0.5 else \"Negative\"\n",
    "\n",
    "    return sentiment, float(score)\n"
   ]
  },
  {
   "cell_type": "code",
   "execution_count": 4,
   "id": "832560ae",
   "metadata": {},
   "outputs": [
    {
     "name": "stdout",
     "output_type": "stream",
     "text": [
      "Review: this movie is bullshit and i just hate this movie\n",
      "Sentiment: Positive\n",
      "Prediction Score: 0.9999\n"
     ]
    }
   ],
   "source": [
    "a = \"this movie is bullshit and i just hate this movie\"\n",
    "sentiment, score = predict_sentiments(a)\n",
    "print(f\"Review: {a}\")\n",
    "print(f\"Sentiment: {sentiment}\")\n",
    "print(f\"Prediction Score: {score:.4f}\")\n"
   ]
  },
  {
   "cell_type": "code",
   "execution_count": null,
   "id": "e8c5ef36",
   "metadata": {},
   "outputs": [],
   "source": []
  }
 ],
 "metadata": {
  "kernelspec": {
   "display_name": "env",
   "language": "python",
   "name": "python3"
  },
  "language_info": {
   "codemirror_mode": {
    "name": "ipython",
    "version": 3
   },
   "file_extension": ".py",
   "mimetype": "text/x-python",
   "name": "python",
   "nbconvert_exporter": "python",
   "pygments_lexer": "ipython3",
   "version": "3.12.0"
  }
 },
 "nbformat": 4,
 "nbformat_minor": 5
}
